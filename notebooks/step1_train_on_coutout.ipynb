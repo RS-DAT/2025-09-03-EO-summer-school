{
 "cells": [
  {
   "cell_type": "code",
   "execution_count": null,
   "id": "69ba6c41",
   "metadata": {},
   "outputs": [],
   "source": [
    "from pathlib import Path\n",
    "import rioxarray\n",
    "import geopandas as gpd\n",
    "import xarray as xr\n",
    "import numpy as np\n",
    "from matplotlib import pyplot as plt\n",
    "\n",
    "from sklearn.ensemble import RandomForestClassifier\n",
    "import joblib # For save and load of the model"
   ]
  },
  {
   "cell_type": "markdown",
   "id": "34db23fa",
   "metadata": {},
   "source": [
    "## Load data"
   ]
  },
  {
   "cell_type": "code",
   "execution_count": null,
   "id": "6e8c67bc",
   "metadata": {},
   "outputs": [],
   "source": [
    "path_rgb_cutout = Path(\"data/sentinel2_rgb_res_20_cutout.tif\")\n",
    "path_positive_label = Path(\"data/waterbody_labels.gpkg\")\n",
    "path_negative_label = Path(\"data/none_waterbody_labels.gpkg\")"
   ]
  },
  {
   "cell_type": "code",
   "execution_count": null,
   "id": "b6176c97",
   "metadata": {},
   "outputs": [],
   "source": [
    "rgb_cutout = rioxarray.open_rasterio(path_rgb_cutout)\n",
    "gpd_positive = gpd.read_file(path_positive_label)\n",
    "gpd_negative = gpd.read_file(path_negative_label)"
   ]
  },
  {
   "cell_type": "markdown",
   "id": "9d29ab3c",
   "metadata": {},
   "source": [
    "## Investigate the data"
   ]
  },
  {
   "cell_type": "code",
   "execution_count": null,
   "id": "bc32b38b",
   "metadata": {},
   "outputs": [],
   "source": [
    "fig, ax = plt.subplots(figsize=(8, 8))\n",
    "rgb_cutout.plot.imshow(ax=ax, robust=True)\n",
    "gpd_positive.plot(ax=ax, color='cyan', alpha=0.6, edgecolor='k')\n",
    "gpd_negative.plot(ax=ax, color='red', alpha=0.6, edgecolor='k')"
   ]
  },
  {
   "cell_type": "markdown",
   "id": "6cfdf03d",
   "metadata": {},
   "source": [
    "## Covert labels from vector to raster"
   ]
  },
  {
   "cell_type": "code",
   "execution_count": null,
   "id": "84385478",
   "metadata": {},
   "outputs": [],
   "source": [
    "def generate_label_array(raster, gdf_positive, gdf_negative):\n",
    "    \"\"\"\n",
    "    Generate a label array from the raster and positive/negative GeoDataFrames.\n",
    "\n",
    "    Parameters:\n",
    "    raster (xarray.DataArray): The input raster data.\n",
    "    gdf_positive (geopandas.GeoDataFrame): GeoDataFrame containing positive labels.\n",
    "    gdf_negative (geopandas.GeoDataFrame): GeoDataFrame containing negative labels.\n",
    "\n",
    "    Returns:\n",
    "    xarray.DataArray: A label array where positive labels are 1, negative labels are 0, \n",
    "    and areas without labels are -1.\n",
    "    \"\"\"\n",
    "    # Make positive labels\n",
    "    pos_mask = xr.full_like(\n",
    "        raster.isel(band=0).drop_vars(\"band\"), fill_value=1, dtype=np.int32\n",
    "    )\n",
    "    pos_mask = pos_mask.rio.write_nodata(-1)\n",
    "    pos_label_array = pos_mask.rio.clip(gdf_positive[\"geometry\"], drop=False)\n",
    "\n",
    "    # Make negative labels\n",
    "    neg_mask = xr.full_like(\n",
    "        raster.isel(band=0).drop_vars(\"band\"), fill_value=0, dtype=np.int32\n",
    "    )\n",
    "    neg_mask = neg_mask.rio.write_nodata(-1)\n",
    "    neg_label_array = neg_mask.rio.clip(gdf_negative[\"geometry\"], drop=False)\n",
    "\n",
    "    # Combine positive and negative labels\n",
    "    label_array = -(pos_label_array * neg_label_array)\n",
    "\n",
    "    return label_array"
   ]
  },
  {
   "cell_type": "code",
   "execution_count": null,
   "id": "a71a8de9",
   "metadata": {},
   "outputs": [],
   "source": [
    "# Covert labels from vector to raster\n",
    "label_array = generate_label_array(rgb_cutout, gpd_positive, gpd_negative)\n",
    "\n",
    "# Plot labels over the RGB image\n",
    "fig, ax = plt.subplots(figsize=(8, 8))\n",
    "rgb_cutout.plot.imshow(ax=ax, robust=True)\n",
    "label_array.plot.imshow(ax=ax, vmin=-1, vmax=1, alpha=0.5)"
   ]
  },
  {
   "cell_type": "markdown",
   "id": "792fa027",
   "metadata": {},
   "source": [
    "## Prepare training data"
   ]
  },
  {
   "cell_type": "code",
   "execution_count": null,
   "id": "179e521f",
   "metadata": {},
   "outputs": [],
   "source": [
    "def prepare_training_data(image, labels):\n",
    "    # Reshape input data to [n_instances, n_features]\n",
    "    flattened = labels.flatten()\n",
    "    positive_data = image.reshape((image.shape[0], -1))[:, flattened == 1].transpose()\n",
    "    negative_data = image.reshape((image.shape[0], -1))[:, flattened == 0].transpose()\n",
    "    positive_labels = np.full_like(positive_data[:,0], 1)\n",
    "    negative_labels = np.full_like(negative_data[:,0], 0)\n",
    "    train_data = np.concatenate((positive_data, negative_data))\n",
    "    train_labels = np.concatenate((positive_labels, negative_labels))\n",
    "\n",
    "    # Shuffle the training data\n",
    "    indices = np.arange(train_data.shape[0])\n",
    "    indices_shuffled = np.random.permutation(indices)\n",
    "    train_data = train_data[indices_shuffled]\n",
    "    train_labels = train_labels[indices_shuffled]\n",
    "\n",
    "    return train_data, train_labels"
   ]
  },
  {
   "cell_type": "code",
   "execution_count": null,
   "id": "88bef437",
   "metadata": {},
   "outputs": [],
   "source": [
    "train_data, train_labels = prepare_training_data(rgb_cutout.data, label_array.data)\n",
    "\n",
    "print(f\"dimensions of training data: {train_data.shape}\")\n",
    "print(f\"dimensions of training labels: {train_labels.shape}\")"
   ]
  },
  {
   "cell_type": "markdown",
   "id": "9be47a01",
   "metadata": {},
   "source": [
    "## Train the RandomForestClassifier"
   ]
  },
  {
   "cell_type": "code",
   "execution_count": null,
   "id": "c4bfd68e",
   "metadata": {},
   "outputs": [],
   "source": [
    "# This automatically computes the dask arrays to convert them to numpy arrays for training\n",
    "classifier = RandomForestClassifier(n_estimators=100, random_state=42)\n",
    "classifier.fit(train_data, train_labels)"
   ]
  },
  {
   "cell_type": "code",
   "execution_count": null,
   "id": "3130fc8a",
   "metadata": {},
   "outputs": [],
   "source": [
    "# Export the trained classifier\n",
    "joblib.dump(classifier, 'binary_classifier_waterbody.pkl')"
   ]
  },
  {
   "cell_type": "markdown",
   "id": "6a73351d",
   "metadata": {},
   "source": [
    "## Prediction on the cutout"
   ]
  },
  {
   "cell_type": "code",
   "execution_count": null,
   "id": "d2634fe1",
   "metadata": {},
   "outputs": [],
   "source": [
    "input = rgb_cutout.data.reshape((rgb_cutout.data.shape[0], -1)).transpose()\n",
    "input.shape"
   ]
  },
  {
   "cell_type": "code",
   "execution_count": null,
   "id": "fd57e099",
   "metadata": {},
   "outputs": [],
   "source": [
    "# Load the trained classifier\n",
    "classifier = joblib.load('binary_classifier_waterbody.pkl')\n",
    "\n",
    "predictions = classifier.predict_proba(input)\n",
    "predictions"
   ]
  },
  {
   "cell_type": "code",
   "execution_count": null,
   "id": "c2dd69e8",
   "metadata": {},
   "outputs": [],
   "source": [
    "# Map of possibilities, take one band for now\n",
    "prediction_map = predictions.transpose().reshape((2, rgb_cutout.data.shape[1], rgb_cutout.data.shape[2]))"
   ]
  },
  {
   "cell_type": "code",
   "execution_count": null,
   "id": "f8de4daa",
   "metadata": {},
   "outputs": [],
   "source": [
    "img_extent = (rgb_cutout.x.min(), rgb_cutout.x.max(), rgb_cutout.y.min(), rgb_cutout.y.max())\n",
    "fig, axes = plt.subplots(1, 2, figsize=(10, 5))\n",
    "rgb_cutout.plot.imshow(ax=axes[0], alpha=0.6, robust=True)\n",
    "axes[0].imshow(prediction_map[0], cmap='Reds', alpha=0.7, extent=img_extent)\n",
    "axes[0].set_title('Non-waterbody Probability')\n",
    "axes[0].axis('off')\n",
    "plt.colorbar(axes[0].images[1], ax=axes[0], shrink=0.7)\n",
    "rgb_cutout.plot.imshow(ax=axes[1], alpha=0.6, robust=True)\n",
    "axes[1].imshow(prediction_map[1], cmap='Blues', alpha=0.7, extent=img_extent)\n",
    "axes[1].set_title('Waterbody Probability')\n",
    "axes[1].axis('off')\n",
    "plt.colorbar(axes[1].images[1], ax=axes[1], shrink=0.7)\n",
    "plt.tight_layout()\n"
   ]
  }
 ],
 "metadata": {
  "kernelspec": {
   "display_name": "rsdat_2025",
   "language": "python",
   "name": "python3"
  },
  "language_info": {
   "codemirror_mode": {
    "name": "ipython",
    "version": 3
   },
   "file_extension": ".py",
   "mimetype": "text/x-python",
   "name": "python",
   "nbconvert_exporter": "python",
   "pygments_lexer": "ipython3",
   "version": "3.10.18"
  }
 },
 "nbformat": 4,
 "nbformat_minor": 5
}
