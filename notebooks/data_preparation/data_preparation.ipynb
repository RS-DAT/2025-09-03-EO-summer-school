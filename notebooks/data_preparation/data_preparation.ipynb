{
 "cells": [
  {
   "cell_type": "markdown",
   "metadata": {},
   "source": [
    "# Data preparation notebook\n",
    "\n",
    "- Workshop: **Tutorial: High performance computing with Python/RS-DAT, EO summer school 2025**\n",
    "\n",
    "- Date: September 3, 2025 "
   ]
  },
  {
   "cell_type": "markdown",
   "metadata": {},
   "source": [
    "This is the data preparation notebook for the workshop. It retrieves a ~5GB Sentinel-2 RGB image as a geo tiff file. The dataset will be used in the workshop to demonstrate an HPC workflow.\n",
    "\n",
    "This notebook is only for demonstration how the example data is prepared. It is not neccessary to run it for preparing the data for the workshop. You can download the prepared data directly via the link below.\n",
    "\n",
    "- Download the prepared data: [sentinel-2_rgb.tif](LINK_TO_ZENODO_LINK)"
   ]
  },
  {
   "cell_type": "code",
   "execution_count": null,
   "metadata": {
    "editable": true,
    "slideshow": {
     "slide_type": "slide"
    },
    "tags": []
   },
   "outputs": [],
   "source": [
    "# Access satellite data\n",
    "import pystac_client\n",
    "import odc.stac\n",
    "import rioxarray # used as an extension\n",
    "\n",
    "# Visualization\n",
    "import matplotlib.pyplot as plt\n",
    "\n",
    "from dask.distributed import Client, LocalCluster, Lock\n",
    "import shapely"
   ]
  },
  {
   "cell_type": "markdown",
   "metadata": {
    "editable": true,
    "slideshow": {
     "slide_type": "slide"
    },
    "tags": []
   },
   "source": [
    "## Search for Satellite Images with STAC\n"
   ]
  },
  {
   "cell_type": "code",
   "execution_count": null,
   "metadata": {
    "editable": true,
    "slideshow": {
     "slide_type": ""
    },
    "tags": []
   },
   "outputs": [],
   "source": [
    "# Setup search client for STAC API\n",
    "api_url = 'https://earth-search.aws.element84.com/v1'\n",
    "client = pystac_client.Client.open(api_url)"
   ]
  },
  {
   "cell_type": "code",
   "execution_count": null,
   "metadata": {
    "editable": true,
    "slideshow": {
     "slide_type": "fragment"
    },
    "tags": []
   },
   "outputs": [],
   "source": [
    "# Collection to search\n",
    "collection = 'sentinel-2-c1-l2a'  # Sentinel-2, Level 2A\n",
    "# Create polygon for data retrieval, assume wgs84 coordinates\n",
    "coords = [[6.174316,54.438991],[4.031982,50.421694],[8.459473,50.300054],[9.865723,51.913779],[10.074463,54.215902],[6.174316,54.438991]]\n",
    "polygon_data = shapely.Polygon(coords)"
   ]
  },
  {
   "cell_type": "code",
   "execution_count": null,
   "metadata": {
    "editable": true,
    "slideshow": {
     "slide_type": "fragment"
    },
    "tags": []
   },
   "outputs": [],
   "source": [
    "# Setup the search\n",
    "search = client.search(\n",
    "    collections=[collection],\n",
    "    intersects=polygon_data,\n",
    "    datetime='2025-06-12/2025-06-12', # search for a single date for a consistent solar intensity\n",
    "    query=['eo:cloud_cover<40']\n",
    ")\n",
    "\n",
    "# Inspect how many items match the search\n",
    "search.matched()"
   ]
  },
  {
   "cell_type": "markdown",
   "metadata": {
    "editable": true,
    "slideshow": {
     "slide_type": "slide"
    },
    "tags": []
   },
   "source": [
    "## Open Satellite Images"
   ]
  },
  {
   "cell_type": "code",
   "execution_count": null,
   "metadata": {
    "editable": true,
    "slideshow": {
     "slide_type": ""
    },
    "tags": []
   },
   "outputs": [],
   "source": [
    "# Set resolution\n",
    "# res = 100 # for testing\n",
    "res = 20  # for data generation\n",
    "\n",
    "# Set clipping box\n",
    "bounds = (250000,5650000, 500000, 6000000)  # (minx, miny, maxx, maxy)\n",
    "\n",
    "# Get items from the search results\n",
    "items = search.item_collection()\n",
    "\n",
    "# Load the search results as a xarray Dataset\n",
    "ds = odc.stac.load(\n",
    "    items,\n",
    "    groupby=\"solar_day\", # group the images within the same day\n",
    "    bands=[\"red\", \"green\", \"blue\"],\n",
    "    resolution=res, # loading resolution\n",
    "    chunks={'x': 2048, 'y':  2048}, # lazy loading with Dask\n",
    "    dtype=\"uint16\"\n",
    ")\n",
    "\n",
    "# Clip the dataset to the bounds\n",
    "ds = ds.rio.clip_box(*bounds)\n",
    "\n",
    "ds"
   ]
  },
  {
   "cell_type": "code",
   "execution_count": null,
   "metadata": {},
   "outputs": [],
   "source": [
    "# Inspect the size of ds\n",
    "print(f\"Dataset size: {ds.nbytes / 1e6:.2f} MB\")  # in MB"
   ]
  },
  {
   "cell_type": "code",
   "execution_count": null,
   "metadata": {},
   "outputs": [],
   "source": [
    "# Simple preprocessing function to generate RGB raster\n",
    "def rgb_img(ds, vmin, vmax):\n",
    "    \"\"\" \n",
    "    Generate RGB raster.\n",
    "    \n",
    "    Sentinel-2 L2A images are provided in Digital Numbers (DNs).\n",
    "    Rescaling to (0, 1] range is done by clipping the values to the provided vmin and vmax.\n",
    "    Missing values are assumed to be 0.\n",
    "    \"\"\"\n",
    "    ds_rgb = ds[[\"red\", \"green\", \"blue\"]].to_array()\n",
    "    ds_rgb = ds_rgb.clip(max=vmax, min=vmin)\n",
    "    ds_rgb = (ds_rgb - vmin) / (vmax - vmin)\n",
    "    \n",
    "    return ds_rgb"
   ]
  },
  {
   "cell_type": "code",
   "execution_count": null,
   "metadata": {},
   "outputs": [],
   "source": [
    "ds_rgb = rgb_img(ds.isel(time=0), vmin=200, vmax=4000)  # Select the first time step\n",
    "ds_rgb = ds_rgb.rio.write_crs(ds.rio.crs)  # Write CRS to the RGB dataset\n",
    "# print(f\"min: {ds_rgb.min().values}, max: {ds_rgb.max().values}\") # expect min: 0, max: 1\n",
    "ds_rgb"
   ]
  },
  {
   "cell_type": "markdown",
   "metadata": {},
   "source": [
    "## (Optional) Data investigation, SKIP WHEN GENERATING DATA"
   ]
  },
  {
   "cell_type": "code",
   "execution_count": null,
   "metadata": {},
   "outputs": [],
   "source": [
    "# # Plot the RGB image\n",
    "# fig, ax = plt.subplots(figsize=(10, 10))\n",
    "# ds_rgb.plot.imshow(ax=ax)"
   ]
  },
  {
   "cell_type": "code",
   "execution_count": null,
   "metadata": {},
   "outputs": [],
   "source": [
    "# # Investigate the data distribution\n",
    "# stats = ds_rgb.data.flatten().compute()\n",
    "# stats_nonzero = stats[stats > 0]\n",
    "# plt.hist(stats_nonzero, bins=50)"
   ]
  },
  {
   "cell_type": "markdown",
   "metadata": {},
   "source": [
    "## Write data to disk and investigate by loading as COG\n",
    "\n",
    "See:\n",
    "\n",
    "- [Rioxarray Dask Read/Write Examples](https://corteva.github.io/rioxarray/stable/examples/dask_read_write.html)\n",
    "- [Rioxarray COG Examples](https://corteva.github.io/rioxarray/stable/examples/COG.html)\n",
    "\n",
    "\n",
    "Write COG parrallelly raises warning:\n",
    "```\n",
    "File ./XXXX.tif has C(loud) O(ptimized) G(eoTIFF) layout. Updating it will generally result in losing part of the optimizations (but will still produce a valid GeoTIFF file). If this is acceptable, open the file with the IGNORE_COG_LAYOUT_BREAK open option set to YES.\n",
    "```\n",
    "See also [GDAL documentation](https://gdal.org/en/stable/drivers/raster/gtiff.html) on `IGNORE_COG_LAYOUT_BREAK`."
   ]
  },
  {
   "cell_type": "code",
   "execution_count": null,
   "metadata": {},
   "outputs": [],
   "source": [
    "# Write the RGB image to a GeoTIFF file parallelly\n",
    "tiff_output = f\"../data/sentinel2_rgb_res_{res}.tif\"\n",
    "\n",
    "cluster = LocalCluster()\n",
    "client = Client(cluster)\n",
    "ds_rgb.rio.to_raster(\n",
    "    tiff_output,\n",
    "    tiled=True,\n",
    "    lock=Lock(\"rio\"),\n",
    ")\n",
    "\n",
    "client.close()"
   ]
  },
  {
   "cell_type": "code",
   "execution_count": null,
   "metadata": {},
   "outputs": [],
   "source": [
    "# Attempt to write a COG with parallely\n",
    "# This cell fail on the GDAL IGNORE_COG_LAYOUT_BREAK error\n",
    "\n",
    "# # Write to COG format\n",
    "# res=20\n",
    "# tiff_output = f\"../data/sentinel2_rgb_res_{res}.tif\"\n",
    "# tiff_cog_output = f\"../data/sentinel2_rgb_res_{res}_cog.tif\"\n",
    "\n",
    "# # # Set the config, does not work\n",
    "# # rasterio.env.set_gdal_config(\"IGNORE_COG_LAYOUT_BREAK\", \"YES\")\n",
    "# # print(rasterio.env.get_gdal_config(\"IGNORE_COG_LAYOUT_BREAK\"))  # Should print \"YES\"\n",
    "\n",
    "# cluster = LocalCluster()\n",
    "# client = Client(cluster)\n",
    "# ds_rgb_loaded = rioxarray.open_rasterio(tiff_output, chunks=True)\n",
    "# ds_rgb_loaded.rio.to_raster(\n",
    "#     tiff_cog_output, \n",
    "#     driver=\"COG\",\n",
    "#     tiled=True,\n",
    "#     lock = Lock(\"rio\")\n",
    "# )\n",
    "# client.close()"
   ]
  },
  {
   "cell_type": "code",
   "execution_count": null,
   "metadata": {},
   "outputs": [],
   "source": [
    "# # check available overview levels\n",
    "# import rasterio\n",
    "# with rasterio.open(tiff_output) as src:\n",
    "#     overview_levels = list(range(len(src.overviews(1))))\n",
    "#     print(f\"Available overview levels: {overview_levels}\")\n",
    "#     print(f\"Overview factors: {src.overviews(1)}\")\n",
    "\n",
    "# ds_rgb_loaded = rioxarray.open_rasterio(file_output, overview_level=2)\n",
    "# ds_rgb_loaded.plot.imshow(figsize=(8, 8))"
   ]
  },
  {
   "cell_type": "markdown",
   "metadata": {},
   "source": [
    "## Make a cutout\n",
    "\n",
    "The cutout will be used to train a segmentation model."
   ]
  },
  {
   "cell_type": "code",
   "execution_count": null,
   "metadata": {},
   "outputs": [],
   "source": [
    "# Write the RGB image to a GeoTIFF file parallelly\n",
    "# res = 20\n",
    "# tiff_output = f\"../data/sentinel2_rgb_res_{res}.tif\"\n",
    "\n",
    "rgb = rioxarray.open_rasterio(tiff_output, chunks=True)\n",
    "rgb"
   ]
  },
  {
   "cell_type": "code",
   "execution_count": null,
   "metadata": {},
   "outputs": [],
   "source": [
    "# Inspect coordinates range of rgb\n",
    "print(f\"Coordinates range: {rgb.rio.bounds()}\")  # Should print the bounds"
   ]
  },
  {
   "cell_type": "code",
   "execution_count": null,
   "metadata": {},
   "outputs": [],
   "source": [
    "bounds = (263_000, 5740_000, 303_000, 5780_000)  # (minx, miny, maxx, maxy)\n",
    "rgb_cutout = rgb.rio.clip_box(*bounds)\n",
    "rgb_cutout"
   ]
  },
  {
   "cell_type": "code",
   "execution_count": null,
   "metadata": {},
   "outputs": [],
   "source": [
    "rgb_cutout.plot.imshow(figsize=(8, 8), robust=True)"
   ]
  },
  {
   "cell_type": "code",
   "execution_count": null,
   "metadata": {},
   "outputs": [],
   "source": [
    "rgb_cutout.rio.to_raster(\n",
    "    f\"../data/sentinel2_rgb_res_{res}_cutout.tif\",\n",
    ")"
   ]
  }
 ],
 "metadata": {
  "kernelspec": {
   "display_name": "rsdat_2025",
   "language": "python",
   "name": "python3"
  },
  "language_info": {
   "codemirror_mode": {
    "name": "ipython",
    "version": 3
   },
   "file_extension": ".py",
   "mimetype": "text/x-python",
   "name": "python",
   "nbconvert_exporter": "python",
   "pygments_lexer": "ipython3",
   "version": "3.10.18"
  },
  "toc": {
   "base_numbering": 1
  }
 },
 "nbformat": 4,
 "nbformat_minor": 4
}
