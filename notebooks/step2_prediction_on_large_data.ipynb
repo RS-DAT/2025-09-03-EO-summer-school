{
 "cells": [
  {
   "cell_type": "code",
   "execution_count": null,
   "id": "69ba6c41",
   "metadata": {},
   "outputs": [],
   "source": [
    "from pathlib import Path\n",
    "import rioxarray\n",
    "from matplotlib import pyplot as plt\n",
    "import dask.array as da\n",
    "\n",
    "import joblib # For save and load of the model\n",
    "\n",
    "from dask.distributed import Client, LocalCluster, Lock\n",
    "import xarray as xr"
   ]
  },
  {
   "cell_type": "markdown",
   "id": "40fc91eb",
   "metadata": {},
   "source": [
    "## Overview AoI"
   ]
  },
  {
   "cell_type": "code",
   "execution_count": null,
   "id": "c1dc5c71",
   "metadata": {},
   "outputs": [],
   "source": [
    "path_rgb_full = Path(\"data/sentinel2_rgb_res_20_size_8000_cog.tif\")\n",
    "rgb_full = rioxarray.open_rasterio(\n",
    "    path_rgb_full, overview_level=1)\n",
    "\n",
    "fig, ax = plt.subplots(figsize=(8, 8))\n",
    "rgb_full.plot.imshow(ax=ax, robust=True)"
   ]
  },
  {
   "cell_type": "markdown",
   "id": "34db23fa",
   "metadata": {},
   "source": [
    "## Load data and trained model"
   ]
  },
  {
   "cell_type": "code",
   "execution_count": null,
   "id": "a1eb306f",
   "metadata": {},
   "outputs": [],
   "source": [
    "# Configure chunksize for the later processing\n",
    "CHUNKSIZE = 1024"
   ]
  },
  {
   "cell_type": "code",
   "execution_count": null,
   "id": "6e8c67bc",
   "metadata": {},
   "outputs": [],
   "source": [
    "# Lazy loading of the RGB data, automatically chunked\n",
    "rgb = rioxarray.open_rasterio(path_rgb_full, chunks={'band': -1, 'y': CHUNKSIZE, 'x': CHUNKSIZE})\n",
    "rgb"
   ]
  },
  {
   "cell_type": "code",
   "execution_count": null,
   "id": "b6176c97",
   "metadata": {},
   "outputs": [],
   "source": [
    "classifier = joblib.load('binary_classifier_waterbody.pkl')"
   ]
  },
  {
   "cell_type": "markdown",
   "id": "2c901aa8",
   "metadata": {},
   "source": [
    "## Distributed prediction on large data"
   ]
  },
  {
   "cell_type": "code",
   "execution_count": null,
   "id": "d350e702",
   "metadata": {},
   "outputs": [],
   "source": [
    "# IMPORT DASK CLUSTER HERE\n",
    "\n",
    "# OR USE LOCAL DASK CLUSTER\n",
    "local_cluster = LocalCluster(n_workers=2)\n",
    "client = Client(local_cluster)"
   ]
  },
  {
   "cell_type": "code",
   "execution_count": null,
   "id": "77a03e1b",
   "metadata": {},
   "outputs": [],
   "source": [
    "# Prediction on each band - keep it lazy\n",
    "def predict_chunk(chunk, classifier):\n",
    "    \"\"\"Predict on a chunk of data\"\"\"\n",
    "    # chunk is now an xarray DataArray\n",
    "    original_shape = chunk.shape\n",
    "    reshaped = chunk.data.reshape((chunk.shape[0], -1)).T\n",
    "    \n",
    "    # Predict probabilities\n",
    "    probs = classifier.predict_proba(reshaped)\n",
    "\n",
    "    # Reshape back to spatial dimensions with probability classes\n",
    "    result = probs.T.reshape((2, original_shape[1], original_shape[2]))\n",
    "    \n",
    "    # Return as xarray DataArray with proper coordinates\n",
    "    return xr.DataArray(\n",
    "        result,\n",
    "        dims=['band', 'y', 'x'],\n",
    "        coords={\n",
    "            'band': [0, 1],  # non-waterbody, waterbody\n",
    "            'y': chunk['y'],\n",
    "            'x': chunk['x']\n",
    "        }\n",
    "    )"
   ]
  },
  {
   "cell_type": "code",
   "execution_count": null,
   "id": "cf96b3c5",
   "metadata": {},
   "outputs": [],
   "source": [
    "# Apply prediction function using xarray.map_blocks\n",
    "predictions = xr.map_blocks(\n",
    "    predict_chunk,\n",
    "    rgb,\n",
    "    args=[classifier],\n",
    "    template=xr.DataArray(\n",
    "        da.zeros((2, rgb.sizes['y'], rgb.sizes['x']), chunks=(-1, CHUNKSIZE, CHUNKSIZE)),\n",
    "        dims=['band', 'y', 'x'],\n",
    "        coords={\n",
    "            'band': [0, 1],\n",
    "            'y': rgb['y'],\n",
    "            'x': rgb['x']\n",
    "        }\n",
    "    )\n",
    ")\n",
    "\n",
    "predictions"
   ]
  },
  {
   "cell_type": "markdown",
   "id": "8f5b0660",
   "metadata": {},
   "source": [
    "## Save predictions"
   ]
  },
  {
   "cell_type": "code",
   "execution_count": null,
   "id": "111e46ca",
   "metadata": {},
   "outputs": [],
   "source": [
    "predictions.isel(band=0).rio.to_raster(\"./predictions_non_waterbody.tif\", driver=\"COG\")\n",
    "predictions.isel(band=1).rio.to_raster(\"./predictions_waterbody.tif\", driver=\"COG\")"
   ]
  },
  {
   "cell_type": "code",
   "execution_count": null,
   "id": "6a1269d5",
   "metadata": {},
   "outputs": [],
   "source": [
    "# # When data is larger than 4GB, zarr is a better option than geo tiff\n",
    "# # This takes ~2mins\n",
    "# predictions.to_zarr(\n",
    "#     \"predictions_waterbody_full.zarr\",\n",
    "#     mode=\"w\",\n",
    "# )"
   ]
  },
  {
   "cell_type": "code",
   "execution_count": null,
   "id": "60f903ba",
   "metadata": {},
   "outputs": [],
   "source": [
    "# Parallel save to GeoTIFF\n",
    "# However this does not support COG\n",
    "\n",
    "# from dask.distributed import Lock\n",
    "\n",
    "# tiff_output_non_water = \"./predictions_waterbody_full_none_water.tif\"\n",
    "# tiff_output_water = \"./predictions_waterbody_full_water.tif\"\n",
    "\n",
    "# predictions.isel(band=0).rio.to_raster(\n",
    "#     tiff_output_non_water,\n",
    "#     tiled=True,\n",
    "#     lock=Lock(\"rio\"),\n",
    "# )"
   ]
  },
  {
   "cell_type": "markdown",
   "id": "4200c40b",
   "metadata": {},
   "source": [
    "## Plot predictions"
   ]
  },
  {
   "cell_type": "code",
   "execution_count": null,
   "id": "7a5acccd",
   "metadata": {},
   "outputs": [],
   "source": [
    "# reduce resolution for visualization\n",
    "predictions_water = rioxarray.open_rasterio(\"./predictions_waterbody.tif\", overview_level=1)\n",
    "predictions_non_water = rioxarray.open_rasterio(\"./predictions_non_waterbody.tif\", overview_level=1)"
   ]
  },
  {
   "cell_type": "code",
   "execution_count": null,
   "id": "a71c741a",
   "metadata": {},
   "outputs": [],
   "source": [
    "img_extent = (predictions_water.x.min(), predictions_water.x.max(), predictions_water.y.min(), predictions_water.y.max())\n",
    "fig, axes = plt.subplots(1, 2, figsize=(10, 5))\n",
    "rgb_full.plot.imshow(ax=axes[0], robust=True)\n",
    "axes[0].imshow(predictions_non_water.data.squeeze(), cmap='Reds', alpha=0.7, extent=img_extent)\n",
    "axes[0].set_title('Non-waterbody Probability')\n",
    "axes[0].axis('off')\n",
    "plt.colorbar(axes[0].images[1], ax=axes[0], shrink=0.7)\n",
    "rgb_full.plot.imshow(ax=axes[1], alpha=0.6, robust=True)\n",
    "axes[1].imshow(predictions_water.data.squeeze(), cmap='Blues', alpha=0.7, extent=img_extent)\n",
    "axes[1].set_title('Waterbody Probability')\n",
    "axes[1].axis('off')\n",
    "plt.colorbar(axes[1].images[1], ax=axes[1], shrink=0.7)\n",
    "plt.tight_layout()"
   ]
  }
 ],
 "metadata": {
  "kernelspec": {
   "display_name": "rsdat_2025",
   "language": "python",
   "name": "python3"
  },
  "language_info": {
   "codemirror_mode": {
    "name": "ipython",
    "version": 3
   },
   "file_extension": ".py",
   "mimetype": "text/x-python",
   "name": "python",
   "nbconvert_exporter": "python",
   "pygments_lexer": "ipython3",
   "version": "3.10.18"
  }
 },
 "nbformat": 4,
 "nbformat_minor": 5
}
